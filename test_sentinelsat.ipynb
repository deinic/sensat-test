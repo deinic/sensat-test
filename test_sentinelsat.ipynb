{
 "cells": [
  {
   "cell_type": "markdown",
   "id": "f7875d79-7d90-44bb-bd9c-5a30c3876aa4",
   "metadata": {},
   "source": [
    "##  Using Python to search and download Sentinel data"
   ]
  },
  {
   "cell_type": "code",
   "execution_count": 1,
   "id": "d7f79ee4-b992-41bd-8ac6-126f384f5b12",
   "metadata": {},
   "outputs": [],
   "source": [
    "from sentinelsat import SentinelAPI, read_geojson, geojson_to_wkt\n",
    "import xarray\n",
    "import pandas as pd"
   ]
  },
  {
   "cell_type": "markdown",
   "id": "84f6a1b9-8a60-4718-8392-e6ab6d9af841",
   "metadata": {},
   "source": [
    "\"Sentinelsat makes searching, downloading and retrieving the metadata of Sentinel satellite images from the Copernicus Open Access Hub easy.\" From <a target=\"_blank\" href=\"https://sentinelsat.readthedocs.io/en/stable/\" >Sentinelsat — Sentinelsat 1.1.1 documentation </a>"
   ]
  },
  {
   "cell_type": "markdown",
   "id": "6ab0aede-baad-4385-8ad7-8d5563016ca7",
   "metadata": {},
   "source": [
    "- connect to the Python API "
   ]
  },
  {
   "cell_type": "code",
   "execution_count": 2,
   "id": "f150ceb5-4f54-44d2-886f-107d06310669",
   "metadata": {},
   "outputs": [],
   "source": [
    "api = SentinelAPI('username', 'password', 'https://apihub.copernicus.eu/apihub')"
   ]
  },
  {
   "cell_type": "markdown",
   "id": "2dc5099d-c9f1-4a11-a305-1bc58ab1bd4f",
   "metadata": {},
   "source": [
    "- search by polygon, time, and SciHub query keywords\n",
    "\n",
    "I've created a simple ROI (rectangle) as geojson file, called map.geojson in order to intersect the footprint with data to search."
   ]
  },
  {
   "cell_type": "code",
   "execution_count": 3,
   "id": "a98fcd87-1967-4291-84c6-ce6cdec135ee",
   "metadata": {},
   "outputs": [],
   "source": [
    "footprint = geojson_to_wkt(read_geojson('../sentinel1/map.geojson'))\n",
    "products = api.query(footprint,\n",
    "                     date = ('20180605', '20180610'),\n",
    "                     platformname = 'Sentinel-1',\n",
    "                     producttype='SLC')"
   ]
  },
  {
   "cell_type": "markdown",
   "id": "ad23e16e-80ab-48c9-a2e6-18b0348a5f8d",
   "metadata": {},
   "source": [
    "A SentinelAPI object can allow different parameters. Here it is date of ingestion , the type of platform and wihich kkind of product you need.\n",
    "\n",
    "- convert to Pandas DataFrame"
   ]
  },
  {
   "cell_type": "code",
   "execution_count": 5,
   "id": "c454097e-2f2e-4d8f-a120-a6c567d99e83",
   "metadata": {},
   "outputs": [],
   "source": [
    "products_df = api.to_dataframe(products)"
   ]
  },
  {
   "cell_type": "code",
   "execution_count": null,
   "id": "7d262f59-f523-4243-8cbc-68e9a6383776",
   "metadata": {},
   "outputs": [],
   "source": [
    "products_df"
   ]
  },
  {
   "cell_type": "markdown",
   "id": "9e171a3a-72f2-435d-9f9f-e09862399469",
   "metadata": {},
   "source": [
    "## Testing products_df visualization as xarray"
   ]
  },
  {
   "cell_type": "code",
   "execution_count": 10,
   "id": "0dd92863-7b1d-4c15-aa7d-889fd207e4d0",
   "metadata": {},
   "outputs": [
    {
     "data": {
      "text/html": [
       "<div><svg style=\"position: absolute; width: 0; height: 0; overflow: hidden\">\n",
       "<defs>\n",
       "<symbol id=\"icon-database\" viewBox=\"0 0 32 32\">\n",
       "<path d=\"M16 0c-8.837 0-16 2.239-16 5v4c0 2.761 7.163 5 16 5s16-2.239 16-5v-4c0-2.761-7.163-5-16-5z\"></path>\n",
       "<path d=\"M16 17c-8.837 0-16-2.239-16-5v6c0 2.761 7.163 5 16 5s16-2.239 16-5v-6c0 2.761-7.163 5-16 5z\"></path>\n",
       "<path d=\"M16 26c-8.837 0-16-2.239-16-5v6c0 2.761 7.163 5 16 5s16-2.239 16-5v-6c0 2.761-7.163 5-16 5z\"></path>\n",
       "</symbol>\n",
       "<symbol id=\"icon-file-text2\" viewBox=\"0 0 32 32\">\n",
       "<path d=\"M28.681 7.159c-0.694-0.947-1.662-2.053-2.724-3.116s-2.169-2.030-3.116-2.724c-1.612-1.182-2.393-1.319-2.841-1.319h-15.5c-1.378 0-2.5 1.121-2.5 2.5v27c0 1.378 1.122 2.5 2.5 2.5h23c1.378 0 2.5-1.122 2.5-2.5v-19.5c0-0.448-0.137-1.23-1.319-2.841zM24.543 5.457c0.959 0.959 1.712 1.825 2.268 2.543h-4.811v-4.811c0.718 0.556 1.584 1.309 2.543 2.268zM28 29.5c0 0.271-0.229 0.5-0.5 0.5h-23c-0.271 0-0.5-0.229-0.5-0.5v-27c0-0.271 0.229-0.5 0.5-0.5 0 0 15.499-0 15.5 0v7c0 0.552 0.448 1 1 1h7v19.5z\"></path>\n",
       "<path d=\"M23 26h-14c-0.552 0-1-0.448-1-1s0.448-1 1-1h14c0.552 0 1 0.448 1 1s-0.448 1-1 1z\"></path>\n",
       "<path d=\"M23 22h-14c-0.552 0-1-0.448-1-1s0.448-1 1-1h14c0.552 0 1 0.448 1 1s-0.448 1-1 1z\"></path>\n",
       "<path d=\"M23 18h-14c-0.552 0-1-0.448-1-1s0.448-1 1-1h14c0.552 0 1 0.448 1 1s-0.448 1-1 1z\"></path>\n",
       "</symbol>\n",
       "</defs>\n",
       "</svg>\n",
       "<style>/* CSS stylesheet for displaying xarray objects in jupyterlab.\n",
       " *\n",
       " */\n",
       "\n",
       ":root {\n",
       "  --xr-font-color0: var(--jp-content-font-color0, rgba(0, 0, 0, 1));\n",
       "  --xr-font-color2: var(--jp-content-font-color2, rgba(0, 0, 0, 0.54));\n",
       "  --xr-font-color3: var(--jp-content-font-color3, rgba(0, 0, 0, 0.38));\n",
       "  --xr-border-color: var(--jp-border-color2, #e0e0e0);\n",
       "  --xr-disabled-color: var(--jp-layout-color3, #bdbdbd);\n",
       "  --xr-background-color: var(--jp-layout-color0, white);\n",
       "  --xr-background-color-row-even: var(--jp-layout-color1, white);\n",
       "  --xr-background-color-row-odd: var(--jp-layout-color2, #eeeeee);\n",
       "}\n",
       "\n",
       "html[theme=dark],\n",
       "body.vscode-dark {\n",
       "  --xr-font-color0: rgba(255, 255, 255, 1);\n",
       "  --xr-font-color2: rgba(255, 255, 255, 0.54);\n",
       "  --xr-font-color3: rgba(255, 255, 255, 0.38);\n",
       "  --xr-border-color: #1F1F1F;\n",
       "  --xr-disabled-color: #515151;\n",
       "  --xr-background-color: #111111;\n",
       "  --xr-background-color-row-even: #111111;\n",
       "  --xr-background-color-row-odd: #313131;\n",
       "}\n",
       "\n",
       ".xr-wrap {\n",
       "  display: block;\n",
       "  min-width: 300px;\n",
       "  max-width: 700px;\n",
       "}\n",
       "\n",
       ".xr-text-repr-fallback {\n",
       "  /* fallback to plain text repr when CSS is not injected (untrusted notebook) */\n",
       "  display: none;\n",
       "}\n",
       "\n",
       ".xr-header {\n",
       "  padding-top: 6px;\n",
       "  padding-bottom: 6px;\n",
       "  margin-bottom: 4px;\n",
       "  border-bottom: solid 1px var(--xr-border-color);\n",
       "}\n",
       "\n",
       ".xr-header > div,\n",
       ".xr-header > ul {\n",
       "  display: inline;\n",
       "  margin-top: 0;\n",
       "  margin-bottom: 0;\n",
       "}\n",
       "\n",
       ".xr-obj-type,\n",
       ".xr-array-name {\n",
       "  margin-left: 2px;\n",
       "  margin-right: 10px;\n",
       "}\n",
       "\n",
       ".xr-obj-type {\n",
       "  color: var(--xr-font-color2);\n",
       "}\n",
       "\n",
       ".xr-sections {\n",
       "  padding-left: 0 !important;\n",
       "  display: grid;\n",
       "  grid-template-columns: 150px auto auto 1fr 20px 20px;\n",
       "}\n",
       "\n",
       ".xr-section-item {\n",
       "  display: contents;\n",
       "}\n",
       "\n",
       ".xr-section-item input {\n",
       "  display: none;\n",
       "}\n",
       "\n",
       ".xr-section-item input + label {\n",
       "  color: var(--xr-disabled-color);\n",
       "}\n",
       "\n",
       ".xr-section-item input:enabled + label {\n",
       "  cursor: pointer;\n",
       "  color: var(--xr-font-color2);\n",
       "}\n",
       "\n",
       ".xr-section-item input:enabled + label:hover {\n",
       "  color: var(--xr-font-color0);\n",
       "}\n",
       "\n",
       ".xr-section-summary {\n",
       "  grid-column: 1;\n",
       "  color: var(--xr-font-color2);\n",
       "  font-weight: 500;\n",
       "}\n",
       "\n",
       ".xr-section-summary > span {\n",
       "  display: inline-block;\n",
       "  padding-left: 0.5em;\n",
       "}\n",
       "\n",
       ".xr-section-summary-in:disabled + label {\n",
       "  color: var(--xr-font-color2);\n",
       "}\n",
       "\n",
       ".xr-section-summary-in + label:before {\n",
       "  display: inline-block;\n",
       "  content: '►';\n",
       "  font-size: 11px;\n",
       "  width: 15px;\n",
       "  text-align: center;\n",
       "}\n",
       "\n",
       ".xr-section-summary-in:disabled + label:before {\n",
       "  color: var(--xr-disabled-color);\n",
       "}\n",
       "\n",
       ".xr-section-summary-in:checked + label:before {\n",
       "  content: '▼';\n",
       "}\n",
       "\n",
       ".xr-section-summary-in:checked + label > span {\n",
       "  display: none;\n",
       "}\n",
       "\n",
       ".xr-section-summary,\n",
       ".xr-section-inline-details {\n",
       "  padding-top: 4px;\n",
       "  padding-bottom: 4px;\n",
       "}\n",
       "\n",
       ".xr-section-inline-details {\n",
       "  grid-column: 2 / -1;\n",
       "}\n",
       "\n",
       ".xr-section-details {\n",
       "  display: none;\n",
       "  grid-column: 1 / -1;\n",
       "  margin-bottom: 5px;\n",
       "}\n",
       "\n",
       ".xr-section-summary-in:checked ~ .xr-section-details {\n",
       "  display: contents;\n",
       "}\n",
       "\n",
       ".xr-array-wrap {\n",
       "  grid-column: 1 / -1;\n",
       "  display: grid;\n",
       "  grid-template-columns: 20px auto;\n",
       "}\n",
       "\n",
       ".xr-array-wrap > label {\n",
       "  grid-column: 1;\n",
       "  vertical-align: top;\n",
       "}\n",
       "\n",
       ".xr-preview {\n",
       "  color: var(--xr-font-color3);\n",
       "}\n",
       "\n",
       ".xr-array-preview,\n",
       ".xr-array-data {\n",
       "  padding: 0 5px !important;\n",
       "  grid-column: 2;\n",
       "}\n",
       "\n",
       ".xr-array-data,\n",
       ".xr-array-in:checked ~ .xr-array-preview {\n",
       "  display: none;\n",
       "}\n",
       "\n",
       ".xr-array-in:checked ~ .xr-array-data,\n",
       ".xr-array-preview {\n",
       "  display: inline-block;\n",
       "}\n",
       "\n",
       ".xr-dim-list {\n",
       "  display: inline-block !important;\n",
       "  list-style: none;\n",
       "  padding: 0 !important;\n",
       "  margin: 0;\n",
       "}\n",
       "\n",
       ".xr-dim-list li {\n",
       "  display: inline-block;\n",
       "  padding: 0;\n",
       "  margin: 0;\n",
       "}\n",
       "\n",
       ".xr-dim-list:before {\n",
       "  content: '(';\n",
       "}\n",
       "\n",
       ".xr-dim-list:after {\n",
       "  content: ')';\n",
       "}\n",
       "\n",
       ".xr-dim-list li:not(:last-child):after {\n",
       "  content: ',';\n",
       "  padding-right: 5px;\n",
       "}\n",
       "\n",
       ".xr-has-index {\n",
       "  font-weight: bold;\n",
       "}\n",
       "\n",
       ".xr-var-list,\n",
       ".xr-var-item {\n",
       "  display: contents;\n",
       "}\n",
       "\n",
       ".xr-var-item > div,\n",
       ".xr-var-item label,\n",
       ".xr-var-item > .xr-var-name span {\n",
       "  background-color: var(--xr-background-color-row-even);\n",
       "  margin-bottom: 0;\n",
       "}\n",
       "\n",
       ".xr-var-item > .xr-var-name:hover span {\n",
       "  padding-right: 5px;\n",
       "}\n",
       "\n",
       ".xr-var-list > li:nth-child(odd) > div,\n",
       ".xr-var-list > li:nth-child(odd) > label,\n",
       ".xr-var-list > li:nth-child(odd) > .xr-var-name span {\n",
       "  background-color: var(--xr-background-color-row-odd);\n",
       "}\n",
       "\n",
       ".xr-var-name {\n",
       "  grid-column: 1;\n",
       "}\n",
       "\n",
       ".xr-var-dims {\n",
       "  grid-column: 2;\n",
       "}\n",
       "\n",
       ".xr-var-dtype {\n",
       "  grid-column: 3;\n",
       "  text-align: right;\n",
       "  color: var(--xr-font-color2);\n",
       "}\n",
       "\n",
       ".xr-var-preview {\n",
       "  grid-column: 4;\n",
       "}\n",
       "\n",
       ".xr-var-name,\n",
       ".xr-var-dims,\n",
       ".xr-var-dtype,\n",
       ".xr-preview,\n",
       ".xr-attrs dt {\n",
       "  white-space: nowrap;\n",
       "  overflow: hidden;\n",
       "  text-overflow: ellipsis;\n",
       "  padding-right: 10px;\n",
       "}\n",
       "\n",
       ".xr-var-name:hover,\n",
       ".xr-var-dims:hover,\n",
       ".xr-var-dtype:hover,\n",
       ".xr-attrs dt:hover {\n",
       "  overflow: visible;\n",
       "  width: auto;\n",
       "  z-index: 1;\n",
       "}\n",
       "\n",
       ".xr-var-attrs,\n",
       ".xr-var-data {\n",
       "  display: none;\n",
       "  background-color: var(--xr-background-color) !important;\n",
       "  padding-bottom: 5px !important;\n",
       "}\n",
       "\n",
       ".xr-var-attrs-in:checked ~ .xr-var-attrs,\n",
       ".xr-var-data-in:checked ~ .xr-var-data {\n",
       "  display: block;\n",
       "}\n",
       "\n",
       ".xr-var-data > table {\n",
       "  float: right;\n",
       "}\n",
       "\n",
       ".xr-var-name span,\n",
       ".xr-var-data,\n",
       ".xr-attrs {\n",
       "  padding-left: 25px !important;\n",
       "}\n",
       "\n",
       ".xr-attrs,\n",
       ".xr-var-attrs,\n",
       ".xr-var-data {\n",
       "  grid-column: 1 / -1;\n",
       "}\n",
       "\n",
       "dl.xr-attrs {\n",
       "  padding: 0;\n",
       "  margin: 0;\n",
       "  display: grid;\n",
       "  grid-template-columns: 125px auto;\n",
       "}\n",
       "\n",
       ".xr-attrs dt,\n",
       ".xr-attrs dd {\n",
       "  padding: 0;\n",
       "  margin: 0;\n",
       "  float: left;\n",
       "  padding-right: 10px;\n",
       "  width: auto;\n",
       "}\n",
       "\n",
       ".xr-attrs dt {\n",
       "  font-weight: normal;\n",
       "  grid-column: 1;\n",
       "}\n",
       "\n",
       ".xr-attrs dt:hover span {\n",
       "  display: inline-block;\n",
       "  background: var(--xr-background-color);\n",
       "  padding-right: 10px;\n",
       "}\n",
       "\n",
       ".xr-attrs dd {\n",
       "  grid-column: 2;\n",
       "  white-space: pre-wrap;\n",
       "  word-break: break-all;\n",
       "}\n",
       "\n",
       ".xr-icon-database,\n",
       ".xr-icon-file-text2 {\n",
       "  display: inline-block;\n",
       "  vertical-align: middle;\n",
       "  width: 1em;\n",
       "  height: 1.5em !important;\n",
       "  stroke-width: 0;\n",
       "  stroke: currentColor;\n",
       "  fill: currentColor;\n",
       "}\n",
       "</style><pre class='xr-text-repr-fallback'>&lt;xarray.Dataset&gt;\n",
       "Dimensions:                      (index: 1)\n",
       "Coordinates:\n",
       "  * index                        (index) object &#x27;b5c7ca6d-768e-4600-a2dd-556d...\n",
       "Data variables: (12/42)\n",
       "    title                        (index) object &#x27;S2B_MSIL2A_20220430T100019_N...\n",
       "    link                         (index) object &quot;https://apihub.copernicus.eu...\n",
       "    link_alternative             (index) object &quot;https://apihub.copernicus.eu...\n",
       "    link_icon                    (index) object &quot;https://apihub.copernicus.eu...\n",
       "    summary                      (index) object &#x27;Date: 2022-04-30T10:00:19.02...\n",
       "    ondemand                     (index) object &#x27;false&#x27;\n",
       "    ...                           ...\n",
       "    platformserialidentifier     (index) object &#x27;Sentinel-2B&#x27;\n",
       "    processinglevel              (index) object &#x27;Level-2A&#x27;\n",
       "    datastripidentifier          (index) object &#x27;S2B_OPER_MSI_L2A_DS_2BPS_202...\n",
       "    granuleidentifier            (index) object &#x27;S2B_OPER_MSI_L2A_TL_2BPS_202...\n",
       "    identifier                   (index) object &#x27;S2B_MSIL2A_20220430T100019_N...\n",
       "    uuid                         (index) object &#x27;b5c7ca6d-768e-4600-a2dd-556d...</pre><div class='xr-wrap' hidden><div class='xr-header'><div class='xr-obj-type'>xarray.Dataset</div></div><ul class='xr-sections'><li class='xr-section-item'><input id='section-a052bbca-5412-43cc-b197-841a27fe5859' class='xr-section-summary-in' type='checkbox' disabled ><label for='section-a052bbca-5412-43cc-b197-841a27fe5859' class='xr-section-summary'  title='Expand/collapse section'>Dimensions:</label><div class='xr-section-inline-details'><ul class='xr-dim-list'><li><span class='xr-has-index'>index</span>: 1</li></ul></div><div class='xr-section-details'></div></li><li class='xr-section-item'><input id='section-328c17b7-f390-4889-b6af-36163182589b' class='xr-section-summary-in' type='checkbox'  checked><label for='section-328c17b7-f390-4889-b6af-36163182589b' class='xr-section-summary' >Coordinates: <span>(1)</span></label><div class='xr-section-inline-details'></div><div class='xr-section-details'><ul class='xr-var-list'><li class='xr-var-item'><div class='xr-var-name'><span class='xr-has-index'>index</span></div><div class='xr-var-dims'>(index)</div><div class='xr-var-dtype'>object</div><div class='xr-var-preview xr-preview'>&#x27;b5c7ca6d-768e-4600-a2dd-556d31b...</div><input id='attrs-6bfd1758-2128-467d-b6b0-4503c6a35b95' class='xr-var-attrs-in' type='checkbox' disabled><label for='attrs-6bfd1758-2128-467d-b6b0-4503c6a35b95' title='Show/Hide attributes'><svg class='icon xr-icon-file-text2'><use xlink:href='#icon-file-text2'></use></svg></label><input id='data-44309adf-faf1-421c-a15e-86b43e66160c' class='xr-var-data-in' type='checkbox'><label for='data-44309adf-faf1-421c-a15e-86b43e66160c' title='Show/Hide data repr'><svg class='icon xr-icon-database'><use xlink:href='#icon-database'></use></svg></label><div class='xr-var-attrs'><dl class='xr-attrs'></dl></div><div class='xr-var-data'><pre>array([&#x27;b5c7ca6d-768e-4600-a2dd-556d31b05693&#x27;], dtype=object)</pre></div></li></ul></div></li><li class='xr-section-item'><input id='section-067d8826-34a8-4843-9bf9-44361126f5d5' class='xr-section-summary-in' type='checkbox'  ><label for='section-067d8826-34a8-4843-9bf9-44361126f5d5' class='xr-section-summary' >Data variables: <span>(42)</span></label><div class='xr-section-inline-details'></div><div class='xr-section-details'><ul class='xr-var-list'><li class='xr-var-item'><div class='xr-var-name'><span>title</span></div><div class='xr-var-dims'>(index)</div><div class='xr-var-dtype'>object</div><div class='xr-var-preview xr-preview'>&#x27;S2B_MSIL2A_20220430T100019_N040...</div><input id='attrs-9a2cf400-de2d-48ac-9c90-f29d88bb90f6' class='xr-var-attrs-in' type='checkbox' disabled><label for='attrs-9a2cf400-de2d-48ac-9c90-f29d88bb90f6' title='Show/Hide attributes'><svg class='icon xr-icon-file-text2'><use xlink:href='#icon-file-text2'></use></svg></label><input id='data-4d5be5f2-9632-4e6f-9fe5-ddc0b90083e1' class='xr-var-data-in' type='checkbox'><label for='data-4d5be5f2-9632-4e6f-9fe5-ddc0b90083e1' title='Show/Hide data repr'><svg class='icon xr-icon-database'><use xlink:href='#icon-database'></use></svg></label><div class='xr-var-attrs'><dl class='xr-attrs'></dl></div><div class='xr-var-data'><pre>array([&#x27;S2B_MSIL2A_20220430T100019_N0400_R122_T33TVF_20220430T131131&#x27;],\n",
       "      dtype=object)</pre></div></li><li class='xr-var-item'><div class='xr-var-name'><span>link</span></div><div class='xr-var-dims'>(index)</div><div class='xr-var-dtype'>object</div><div class='xr-var-preview xr-preview'>&quot;https://apihub.copernicus.eu/ap...</div><input id='attrs-cd4968ea-5c34-4a3d-a161-4e5d3260d1dc' class='xr-var-attrs-in' type='checkbox' disabled><label for='attrs-cd4968ea-5c34-4a3d-a161-4e5d3260d1dc' title='Show/Hide attributes'><svg class='icon xr-icon-file-text2'><use xlink:href='#icon-file-text2'></use></svg></label><input id='data-c648ac71-66ba-43c2-a496-73d3f4ddc950' class='xr-var-data-in' type='checkbox'><label for='data-c648ac71-66ba-43c2-a496-73d3f4ddc950' title='Show/Hide data repr'><svg class='icon xr-icon-database'><use xlink:href='#icon-database'></use></svg></label><div class='xr-var-attrs'><dl class='xr-attrs'></dl></div><div class='xr-var-data'><pre>array([&quot;https://apihub.copernicus.eu/apihub/odata/v1/Products(&#x27;b5c7ca6d-768e-4600-a2dd-556d31b05693&#x27;)/$value&quot;],\n",
       "      dtype=object)</pre></div></li><li class='xr-var-item'><div class='xr-var-name'><span>link_alternative</span></div><div class='xr-var-dims'>(index)</div><div class='xr-var-dtype'>object</div><div class='xr-var-preview xr-preview'>&quot;https://apihub.copernicus.eu/ap...</div><input id='attrs-a37148e6-e26f-40bd-82e4-58009f6f1096' class='xr-var-attrs-in' type='checkbox' disabled><label for='attrs-a37148e6-e26f-40bd-82e4-58009f6f1096' title='Show/Hide attributes'><svg class='icon xr-icon-file-text2'><use xlink:href='#icon-file-text2'></use></svg></label><input id='data-befb2ca8-f18d-4fe4-a6de-30dcc1d13647' class='xr-var-data-in' type='checkbox'><label for='data-befb2ca8-f18d-4fe4-a6de-30dcc1d13647' title='Show/Hide data repr'><svg class='icon xr-icon-database'><use xlink:href='#icon-database'></use></svg></label><div class='xr-var-attrs'><dl class='xr-attrs'></dl></div><div class='xr-var-data'><pre>array([&quot;https://apihub.copernicus.eu/apihub/odata/v1/Products(&#x27;b5c7ca6d-768e-4600-a2dd-556d31b05693&#x27;)/&quot;],\n",
       "      dtype=object)</pre></div></li><li class='xr-var-item'><div class='xr-var-name'><span>link_icon</span></div><div class='xr-var-dims'>(index)</div><div class='xr-var-dtype'>object</div><div class='xr-var-preview xr-preview'>&quot;https://apihub.copernicus.eu/ap...</div><input id='attrs-0be935fc-dc45-44ff-8af0-63ad267bc4b1' class='xr-var-attrs-in' type='checkbox' disabled><label for='attrs-0be935fc-dc45-44ff-8af0-63ad267bc4b1' title='Show/Hide attributes'><svg class='icon xr-icon-file-text2'><use xlink:href='#icon-file-text2'></use></svg></label><input id='data-b2715b27-0b24-444f-8817-a5baff8a8327' class='xr-var-data-in' type='checkbox'><label for='data-b2715b27-0b24-444f-8817-a5baff8a8327' title='Show/Hide data repr'><svg class='icon xr-icon-database'><use xlink:href='#icon-database'></use></svg></label><div class='xr-var-attrs'><dl class='xr-attrs'></dl></div><div class='xr-var-data'><pre>array([&quot;https://apihub.copernicus.eu/apihub/odata/v1/Products(&#x27;b5c7ca6d-768e-4600-a2dd-556d31b05693&#x27;)/Products(&#x27;Quicklook&#x27;)/$value&quot;],\n",
       "      dtype=object)</pre></div></li><li class='xr-var-item'><div class='xr-var-name'><span>summary</span></div><div class='xr-var-dims'>(index)</div><div class='xr-var-dtype'>object</div><div class='xr-var-preview xr-preview'>&#x27;Date: 2022-04-30T10:00:19.024Z,...</div><input id='attrs-a490a00f-4615-4d45-8d08-af35bcbab412' class='xr-var-attrs-in' type='checkbox' disabled><label for='attrs-a490a00f-4615-4d45-8d08-af35bcbab412' title='Show/Hide attributes'><svg class='icon xr-icon-file-text2'><use xlink:href='#icon-file-text2'></use></svg></label><input id='data-980b72c7-c5f1-40cf-9419-98cc7aec784f' class='xr-var-data-in' type='checkbox'><label for='data-980b72c7-c5f1-40cf-9419-98cc7aec784f' title='Show/Hide data repr'><svg class='icon xr-icon-database'><use xlink:href='#icon-database'></use></svg></label><div class='xr-var-attrs'><dl class='xr-attrs'></dl></div><div class='xr-var-data'><pre>array([&#x27;Date: 2022-04-30T10:00:19.024Z, Instrument: MSI, Satellite: Sentinel-2, Size: 624.78 MB&#x27;],\n",
       "      dtype=object)</pre></div></li><li class='xr-var-item'><div class='xr-var-name'><span>ondemand</span></div><div class='xr-var-dims'>(index)</div><div class='xr-var-dtype'>object</div><div class='xr-var-preview xr-preview'>&#x27;false&#x27;</div><input id='attrs-cd837bec-924e-4a4d-9b2d-87660140a9e7' class='xr-var-attrs-in' type='checkbox' disabled><label for='attrs-cd837bec-924e-4a4d-9b2d-87660140a9e7' title='Show/Hide attributes'><svg class='icon xr-icon-file-text2'><use xlink:href='#icon-file-text2'></use></svg></label><input id='data-4fb32c39-7060-4633-84a5-e07de2790d59' class='xr-var-data-in' type='checkbox'><label for='data-4fb32c39-7060-4633-84a5-e07de2790d59' title='Show/Hide data repr'><svg class='icon xr-icon-database'><use xlink:href='#icon-database'></use></svg></label><div class='xr-var-attrs'><dl class='xr-attrs'></dl></div><div class='xr-var-data'><pre>array([&#x27;false&#x27;], dtype=object)</pre></div></li><li class='xr-var-item'><div class='xr-var-name'><span>generationdate</span></div><div class='xr-var-dims'>(index)</div><div class='xr-var-dtype'>datetime64[ns]</div><div class='xr-var-preview xr-preview'>2022-04-30T13:11:31</div><input id='attrs-df2f5b67-c03d-46e4-b78c-f538e49a086b' class='xr-var-attrs-in' type='checkbox' disabled><label for='attrs-df2f5b67-c03d-46e4-b78c-f538e49a086b' title='Show/Hide attributes'><svg class='icon xr-icon-file-text2'><use xlink:href='#icon-file-text2'></use></svg></label><input id='data-743947c2-de1c-46e7-8598-1b68125fb8d8' class='xr-var-data-in' type='checkbox'><label for='data-743947c2-de1c-46e7-8598-1b68125fb8d8' title='Show/Hide data repr'><svg class='icon xr-icon-database'><use xlink:href='#icon-database'></use></svg></label><div class='xr-var-attrs'><dl class='xr-attrs'></dl></div><div class='xr-var-data'><pre>array([&#x27;2022-04-30T13:11:31.000000000&#x27;], dtype=&#x27;datetime64[ns]&#x27;)</pre></div></li><li class='xr-var-item'><div class='xr-var-name'><span>beginposition</span></div><div class='xr-var-dims'>(index)</div><div class='xr-var-dtype'>datetime64[ns]</div><div class='xr-var-preview xr-preview'>2022-04-30T10:00:19.024000</div><input id='attrs-993f1d64-2ed6-4069-9755-9d34ed8ec991' class='xr-var-attrs-in' type='checkbox' disabled><label for='attrs-993f1d64-2ed6-4069-9755-9d34ed8ec991' title='Show/Hide attributes'><svg class='icon xr-icon-file-text2'><use xlink:href='#icon-file-text2'></use></svg></label><input id='data-f48416bb-dab9-458c-8e6c-d083f5f0bf6b' class='xr-var-data-in' type='checkbox'><label for='data-f48416bb-dab9-458c-8e6c-d083f5f0bf6b' title='Show/Hide data repr'><svg class='icon xr-icon-database'><use xlink:href='#icon-database'></use></svg></label><div class='xr-var-attrs'><dl class='xr-attrs'></dl></div><div class='xr-var-data'><pre>array([&#x27;2022-04-30T10:00:19.024000000&#x27;], dtype=&#x27;datetime64[ns]&#x27;)</pre></div></li><li class='xr-var-item'><div class='xr-var-name'><span>endposition</span></div><div class='xr-var-dims'>(index)</div><div class='xr-var-dtype'>datetime64[ns]</div><div class='xr-var-preview xr-preview'>2022-04-30T10:00:19.024000</div><input id='attrs-b3271f40-a763-4e8d-a922-a85ed0eb7b07' class='xr-var-attrs-in' type='checkbox' disabled><label for='attrs-b3271f40-a763-4e8d-a922-a85ed0eb7b07' title='Show/Hide attributes'><svg class='icon xr-icon-file-text2'><use xlink:href='#icon-file-text2'></use></svg></label><input id='data-21aa3d1d-a91f-4727-8870-3bc8ee5afccc' class='xr-var-data-in' type='checkbox'><label for='data-21aa3d1d-a91f-4727-8870-3bc8ee5afccc' title='Show/Hide data repr'><svg class='icon xr-icon-database'><use xlink:href='#icon-database'></use></svg></label><div class='xr-var-attrs'><dl class='xr-attrs'></dl></div><div class='xr-var-data'><pre>array([&#x27;2022-04-30T10:00:19.024000000&#x27;], dtype=&#x27;datetime64[ns]&#x27;)</pre></div></li><li class='xr-var-item'><div class='xr-var-name'><span>ingestiondate</span></div><div class='xr-var-dims'>(index)</div><div class='xr-var-dtype'>datetime64[ns]</div><div class='xr-var-preview xr-preview'>2022-04-30T18:31:42.412000</div><input id='attrs-278c03b7-3e58-43dd-ac92-f3a158031e41' class='xr-var-attrs-in' type='checkbox' disabled><label for='attrs-278c03b7-3e58-43dd-ac92-f3a158031e41' title='Show/Hide attributes'><svg class='icon xr-icon-file-text2'><use xlink:href='#icon-file-text2'></use></svg></label><input id='data-e3f2c2cc-639c-44fc-bc57-2149f4571ccf' class='xr-var-data-in' type='checkbox'><label for='data-e3f2c2cc-639c-44fc-bc57-2149f4571ccf' title='Show/Hide data repr'><svg class='icon xr-icon-database'><use xlink:href='#icon-database'></use></svg></label><div class='xr-var-attrs'><dl class='xr-attrs'></dl></div><div class='xr-var-data'><pre>array([&#x27;2022-04-30T18:31:42.412000000&#x27;], dtype=&#x27;datetime64[ns]&#x27;)</pre></div></li><li class='xr-var-item'><div class='xr-var-name'><span>orbitnumber</span></div><div class='xr-var-dims'>(index)</div><div class='xr-var-dtype'>int64</div><div class='xr-var-preview xr-preview'>26889</div><input id='attrs-4927a1ec-9277-4b8b-a58c-4fd7aea47bb7' class='xr-var-attrs-in' type='checkbox' disabled><label for='attrs-4927a1ec-9277-4b8b-a58c-4fd7aea47bb7' title='Show/Hide attributes'><svg class='icon xr-icon-file-text2'><use xlink:href='#icon-file-text2'></use></svg></label><input id='data-1bcaeb53-e8fd-4c0a-8bf0-510039e3ee95' class='xr-var-data-in' type='checkbox'><label for='data-1bcaeb53-e8fd-4c0a-8bf0-510039e3ee95' title='Show/Hide data repr'><svg class='icon xr-icon-database'><use xlink:href='#icon-database'></use></svg></label><div class='xr-var-attrs'><dl class='xr-attrs'></dl></div><div class='xr-var-data'><pre>array([26889], dtype=int64)</pre></div></li><li class='xr-var-item'><div class='xr-var-name'><span>relativeorbitnumber</span></div><div class='xr-var-dims'>(index)</div><div class='xr-var-dtype'>int64</div><div class='xr-var-preview xr-preview'>122</div><input id='attrs-11a31196-ae69-4741-b144-0af9a589c1c7' class='xr-var-attrs-in' type='checkbox' disabled><label for='attrs-11a31196-ae69-4741-b144-0af9a589c1c7' title='Show/Hide attributes'><svg class='icon xr-icon-file-text2'><use xlink:href='#icon-file-text2'></use></svg></label><input id='data-dd4f4bc4-8042-4bcd-b757-49826721083a' class='xr-var-data-in' type='checkbox'><label for='data-dd4f4bc4-8042-4bcd-b757-49826721083a' title='Show/Hide data repr'><svg class='icon xr-icon-database'><use xlink:href='#icon-database'></use></svg></label><div class='xr-var-attrs'><dl class='xr-attrs'></dl></div><div class='xr-var-data'><pre>array([122], dtype=int64)</pre></div></li><li class='xr-var-item'><div class='xr-var-name'><span>illuminationazimuthangle</span></div><div class='xr-var-dims'>(index)</div><div class='xr-var-dtype'>float64</div><div class='xr-var-preview xr-preview'>153.8</div><input id='attrs-e893a9eb-91ea-48bf-9afd-cd23cef04a11' class='xr-var-attrs-in' type='checkbox' disabled><label for='attrs-e893a9eb-91ea-48bf-9afd-cd23cef04a11' title='Show/Hide attributes'><svg class='icon xr-icon-file-text2'><use xlink:href='#icon-file-text2'></use></svg></label><input id='data-246b8980-fd90-4efc-8a78-d95bdec2bdc9' class='xr-var-data-in' type='checkbox'><label for='data-246b8980-fd90-4efc-8a78-d95bdec2bdc9' title='Show/Hide data repr'><svg class='icon xr-icon-database'><use xlink:href='#icon-database'></use></svg></label><div class='xr-var-attrs'><dl class='xr-attrs'></dl></div><div class='xr-var-data'><pre>array([153.80771058])</pre></div></li><li class='xr-var-item'><div class='xr-var-name'><span>illuminationzenithangle</span></div><div class='xr-var-dims'>(index)</div><div class='xr-var-dtype'>float64</div><div class='xr-var-preview xr-preview'>28.4</div><input id='attrs-572d19b1-3e5a-46ac-ab39-4db18f84d31b' class='xr-var-attrs-in' type='checkbox' disabled><label for='attrs-572d19b1-3e5a-46ac-ab39-4db18f84d31b' title='Show/Hide attributes'><svg class='icon xr-icon-file-text2'><use xlink:href='#icon-file-text2'></use></svg></label><input id='data-5dfa6691-fdc9-4c9a-be4d-a00a4c15da7a' class='xr-var-data-in' type='checkbox'><label for='data-5dfa6691-fdc9-4c9a-be4d-a00a4c15da7a' title='Show/Hide data repr'><svg class='icon xr-icon-database'><use xlink:href='#icon-database'></use></svg></label><div class='xr-var-attrs'><dl class='xr-attrs'></dl></div><div class='xr-var-data'><pre>array([28.39702244])</pre></div></li><li class='xr-var-item'><div class='xr-var-name'><span>vegetationpercentage</span></div><div class='xr-var-dims'>(index)</div><div class='xr-var-dtype'>float64</div><div class='xr-var-preview xr-preview'>48.8</div><input id='attrs-d1913521-d1c5-44c4-9d2d-cf7c554ae2ec' class='xr-var-attrs-in' type='checkbox' disabled><label for='attrs-d1913521-d1c5-44c4-9d2d-cf7c554ae2ec' title='Show/Hide attributes'><svg class='icon xr-icon-file-text2'><use xlink:href='#icon-file-text2'></use></svg></label><input id='data-e0424a2b-d09c-453f-92b4-67eca45f8090' class='xr-var-data-in' type='checkbox'><label for='data-e0424a2b-d09c-453f-92b4-67eca45f8090' title='Show/Hide data repr'><svg class='icon xr-icon-database'><use xlink:href='#icon-database'></use></svg></label><div class='xr-var-attrs'><dl class='xr-attrs'></dl></div><div class='xr-var-data'><pre>array([48.802644])</pre></div></li><li class='xr-var-item'><div class='xr-var-name'><span>notvegetatedpercentage</span></div><div class='xr-var-dims'>(index)</div><div class='xr-var-dtype'>float64</div><div class='xr-var-preview xr-preview'>14.68</div><input id='attrs-f8b29c6e-4361-4518-b010-c8318378c6b3' class='xr-var-attrs-in' type='checkbox' disabled><label for='attrs-f8b29c6e-4361-4518-b010-c8318378c6b3' title='Show/Hide attributes'><svg class='icon xr-icon-file-text2'><use xlink:href='#icon-file-text2'></use></svg></label><input id='data-29ecf213-d25e-4b24-a39c-5248edfddb27' class='xr-var-data-in' type='checkbox'><label for='data-29ecf213-d25e-4b24-a39c-5248edfddb27' title='Show/Hide data repr'><svg class='icon xr-icon-database'><use xlink:href='#icon-database'></use></svg></label><div class='xr-var-attrs'><dl class='xr-attrs'></dl></div><div class='xr-var-data'><pre>array([14.678153])</pre></div></li><li class='xr-var-item'><div class='xr-var-name'><span>waterpercentage</span></div><div class='xr-var-dims'>(index)</div><div class='xr-var-dtype'>float64</div><div class='xr-var-preview xr-preview'>27.68</div><input id='attrs-202aa87c-403e-42bd-88dd-6af84898d33d' class='xr-var-attrs-in' type='checkbox' disabled><label for='attrs-202aa87c-403e-42bd-88dd-6af84898d33d' title='Show/Hide attributes'><svg class='icon xr-icon-file-text2'><use xlink:href='#icon-file-text2'></use></svg></label><input id='data-2d6328bc-04ff-4a0b-9eb2-847d7cc67df3' class='xr-var-data-in' type='checkbox'><label for='data-2d6328bc-04ff-4a0b-9eb2-847d7cc67df3' title='Show/Hide data repr'><svg class='icon xr-icon-database'><use xlink:href='#icon-database'></use></svg></label><div class='xr-var-attrs'><dl class='xr-attrs'></dl></div><div class='xr-var-data'><pre>array([27.681303])</pre></div></li><li class='xr-var-item'><div class='xr-var-name'><span>unclassifiedpercentage</span></div><div class='xr-var-dims'>(index)</div><div class='xr-var-dtype'>float64</div><div class='xr-var-preview xr-preview'>0.1426</div><input id='attrs-67068cc6-3f69-407d-8de1-6925bf7506a4' class='xr-var-attrs-in' type='checkbox' disabled><label for='attrs-67068cc6-3f69-407d-8de1-6925bf7506a4' title='Show/Hide attributes'><svg class='icon xr-icon-file-text2'><use xlink:href='#icon-file-text2'></use></svg></label><input id='data-311beedd-4326-4144-a584-af5276bb5f06' class='xr-var-data-in' type='checkbox'><label for='data-311beedd-4326-4144-a584-af5276bb5f06' title='Show/Hide data repr'><svg class='icon xr-icon-database'><use xlink:href='#icon-database'></use></svg></label><div class='xr-var-attrs'><dl class='xr-attrs'></dl></div><div class='xr-var-data'><pre>array([0.142617])</pre></div></li><li class='xr-var-item'><div class='xr-var-name'><span>mediumprobacloudspercentage</span></div><div class='xr-var-dims'>(index)</div><div class='xr-var-dtype'>float64</div><div class='xr-var-preview xr-preview'>2.283</div><input id='attrs-5799b694-353b-4cc0-b2c2-659393079d72' class='xr-var-attrs-in' type='checkbox' disabled><label for='attrs-5799b694-353b-4cc0-b2c2-659393079d72' title='Show/Hide attributes'><svg class='icon xr-icon-file-text2'><use xlink:href='#icon-file-text2'></use></svg></label><input id='data-39c4a74b-3989-42f8-bda8-4a43f6525ca4' class='xr-var-data-in' type='checkbox'><label for='data-39c4a74b-3989-42f8-bda8-4a43f6525ca4' title='Show/Hide data repr'><svg class='icon xr-icon-database'><use xlink:href='#icon-database'></use></svg></label><div class='xr-var-attrs'><dl class='xr-attrs'></dl></div><div class='xr-var-data'><pre>array([2.282767])</pre></div></li><li class='xr-var-item'><div class='xr-var-name'><span>highprobacloudspercentage</span></div><div class='xr-var-dims'>(index)</div><div class='xr-var-dtype'>float64</div><div class='xr-var-preview xr-preview'>1.624</div><input id='attrs-fe98c6e1-1d6b-4a1f-ae0a-8092e2aa2a98' class='xr-var-attrs-in' type='checkbox' disabled><label for='attrs-fe98c6e1-1d6b-4a1f-ae0a-8092e2aa2a98' title='Show/Hide attributes'><svg class='icon xr-icon-file-text2'><use xlink:href='#icon-file-text2'></use></svg></label><input id='data-716d8d25-7597-4e0b-aae2-c6cc9f4019eb' class='xr-var-data-in' type='checkbox'><label for='data-716d8d25-7597-4e0b-aae2-c6cc9f4019eb' title='Show/Hide data repr'><svg class='icon xr-icon-database'><use xlink:href='#icon-database'></use></svg></label><div class='xr-var-attrs'><dl class='xr-attrs'></dl></div><div class='xr-var-data'><pre>array([1.623816])</pre></div></li><li class='xr-var-item'><div class='xr-var-name'><span>snowicepercentage</span></div><div class='xr-var-dims'>(index)</div><div class='xr-var-dtype'>float64</div><div class='xr-var-preview xr-preview'>0.007217</div><input id='attrs-fd9cb4c3-2a6e-4271-8c15-fef3937a954a' class='xr-var-attrs-in' type='checkbox' disabled><label for='attrs-fd9cb4c3-2a6e-4271-8c15-fef3937a954a' title='Show/Hide attributes'><svg class='icon xr-icon-file-text2'><use xlink:href='#icon-file-text2'></use></svg></label><input id='data-c2946116-8792-4785-9139-6592b37cae3e' class='xr-var-data-in' type='checkbox'><label for='data-c2946116-8792-4785-9139-6592b37cae3e' title='Show/Hide data repr'><svg class='icon xr-icon-database'><use xlink:href='#icon-database'></use></svg></label><div class='xr-var-attrs'><dl class='xr-attrs'></dl></div><div class='xr-var-data'><pre>array([0.007217])</pre></div></li><li class='xr-var-item'><div class='xr-var-name'><span>cloudcoverpercentage</span></div><div class='xr-var-dims'>(index)</div><div class='xr-var-dtype'>float64</div><div class='xr-var-preview xr-preview'>6.358</div><input id='attrs-b2912044-7322-4d3e-acb3-89ab79c7d06a' class='xr-var-attrs-in' type='checkbox' disabled><label for='attrs-b2912044-7322-4d3e-acb3-89ab79c7d06a' title='Show/Hide attributes'><svg class='icon xr-icon-file-text2'><use xlink:href='#icon-file-text2'></use></svg></label><input id='data-dddbf77c-0f58-4d0c-b185-8055a44ad50a' class='xr-var-data-in' type='checkbox'><label for='data-dddbf77c-0f58-4d0c-b185-8055a44ad50a' title='Show/Hide data repr'><svg class='icon xr-icon-database'><use xlink:href='#icon-database'></use></svg></label><div class='xr-var-attrs'><dl class='xr-attrs'></dl></div><div class='xr-var-data'><pre>array([6.358208])</pre></div></li><li class='xr-var-item'><div class='xr-var-name'><span>level1cpdiidentifier</span></div><div class='xr-var-dims'>(index)</div><div class='xr-var-dtype'>object</div><div class='xr-var-preview xr-preview'>&#x27;S2B_OPER_MSI_L1C_TL_2BPS_202204...</div><input id='attrs-b17a70e9-2a41-43b5-97ff-61a52b1e316c' class='xr-var-attrs-in' type='checkbox' disabled><label for='attrs-b17a70e9-2a41-43b5-97ff-61a52b1e316c' title='Show/Hide attributes'><svg class='icon xr-icon-file-text2'><use xlink:href='#icon-file-text2'></use></svg></label><input id='data-172f5f67-74c7-49b9-a93e-a2a445af4606' class='xr-var-data-in' type='checkbox'><label for='data-172f5f67-74c7-49b9-a93e-a2a445af4606' title='Show/Hide data repr'><svg class='icon xr-icon-database'><use xlink:href='#icon-database'></use></svg></label><div class='xr-var-attrs'><dl class='xr-attrs'></dl></div><div class='xr-var-data'><pre>array([&#x27;S2B_OPER_MSI_L1C_TL_2BPS_20220430T120209_A026889_T33TVF_N04.00&#x27;],\n",
       "      dtype=object)</pre></div></li><li class='xr-var-item'><div class='xr-var-name'><span>gmlfootprint</span></div><div class='xr-var-dims'>(index)</div><div class='xr-var-dtype'>object</div><div class='xr-var-preview xr-preview'>&#x27;&lt;gml:Polygon srsName=&quot;http://ww...</div><input id='attrs-054cee32-cea0-421d-86a0-f5675c1c48e7' class='xr-var-attrs-in' type='checkbox' disabled><label for='attrs-054cee32-cea0-421d-86a0-f5675c1c48e7' title='Show/Hide attributes'><svg class='icon xr-icon-file-text2'><use xlink:href='#icon-file-text2'></use></svg></label><input id='data-a6947255-b1bc-4ac0-9a7e-e436eea85fd2' class='xr-var-data-in' type='checkbox'><label for='data-a6947255-b1bc-4ac0-9a7e-e436eea85fd2' title='Show/Hide data repr'><svg class='icon xr-icon-database'><use xlink:href='#icon-database'></use></svg></label><div class='xr-var-attrs'><dl class='xr-attrs'></dl></div><div class='xr-var-data'><pre>array([&#x27;&lt;gml:Polygon srsName=&quot;http://www.opengis.net/gml/srs/epsg.xml#4326&quot; xmlns:gml=&quot;http://www.opengis.net/gml&quot;&gt;\\n   &lt;gml:outerBoundaryIs&gt;\\n      &lt;gml:LinearRing&gt;\\n         &lt;gml:coordinates&gt;41.54970986158542,14.676121401599385 41.475316413364425,14.648566945908971 41.39209831941913,14.617403784322985 41.328546882077774,14.593549486819448 41.18196503364706,14.54105211414984 41.07059614201777,14.500741494562956 41.036462304690495,14.48834005349154 40.90252914944609,14.439669454929737 40.88941849252913,14.434900408922116 40.74322865985612,14.381979877189965 40.597110577059766,14.328944144185272 40.55900004804946,14.315248435333686 40.556706911840905,13.818379707800878 41.54558876800179,13.800550898366621 41.54970986158542,14.676121401599385&lt;/gml:coordinates&gt;\\n      &lt;/gml:LinearRing&gt;\\n   &lt;/gml:outerBoundaryIs&gt;\\n&lt;/gml:Polygon&gt;&#x27;],\n",
       "      dtype=object)</pre></div></li><li class='xr-var-item'><div class='xr-var-name'><span>footprint</span></div><div class='xr-var-dims'>(index)</div><div class='xr-var-dtype'>object</div><div class='xr-var-preview xr-preview'>&#x27;MULTIPOLYGON (((13.818379707800...</div><input id='attrs-06f83c82-507b-417d-9c1d-1e16bb9858a6' class='xr-var-attrs-in' type='checkbox' disabled><label for='attrs-06f83c82-507b-417d-9c1d-1e16bb9858a6' title='Show/Hide attributes'><svg class='icon xr-icon-file-text2'><use xlink:href='#icon-file-text2'></use></svg></label><input id='data-2efcf584-40fa-4254-802b-90a84bd48d3c' class='xr-var-data-in' type='checkbox'><label for='data-2efcf584-40fa-4254-802b-90a84bd48d3c' title='Show/Hide data repr'><svg class='icon xr-icon-database'><use xlink:href='#icon-database'></use></svg></label><div class='xr-var-attrs'><dl class='xr-attrs'></dl></div><div class='xr-var-data'><pre>array([&#x27;MULTIPOLYGON (((13.818379707800878 40.556706911840905, 14.315248435333686 40.55900004804946, 14.328944144185272 40.597110577059766, 14.381979877189965 40.74322865985612, 14.434900408922116 40.88941849252913, 14.439669454929737 40.90252914944609, 14.48834005349154 41.036462304690495, 14.500741494562956 41.07059614201777, 14.54105211414984 41.18196503364706, 14.593549486819448 41.328546882077774, 14.617403784322985 41.39209831941913, 14.648566945908971 41.475316413364425, 14.676121401599385 41.54970986158542, 13.800550898366621 41.54558876800179, 13.818379707800878 40.556706911840905)))&#x27;],\n",
       "      dtype=object)</pre></div></li><li class='xr-var-item'><div class='xr-var-name'><span>format</span></div><div class='xr-var-dims'>(index)</div><div class='xr-var-dtype'>object</div><div class='xr-var-preview xr-preview'>&#x27;SAFE&#x27;</div><input id='attrs-b2da07c2-7deb-41ac-982b-ee1e3e0b2768' class='xr-var-attrs-in' type='checkbox' disabled><label for='attrs-b2da07c2-7deb-41ac-982b-ee1e3e0b2768' title='Show/Hide attributes'><svg class='icon xr-icon-file-text2'><use xlink:href='#icon-file-text2'></use></svg></label><input id='data-1df116ce-49c6-47da-b9a6-e3fae385cde2' class='xr-var-data-in' type='checkbox'><label for='data-1df116ce-49c6-47da-b9a6-e3fae385cde2' title='Show/Hide data repr'><svg class='icon xr-icon-database'><use xlink:href='#icon-database'></use></svg></label><div class='xr-var-attrs'><dl class='xr-attrs'></dl></div><div class='xr-var-data'><pre>array([&#x27;SAFE&#x27;], dtype=object)</pre></div></li><li class='xr-var-item'><div class='xr-var-name'><span>processingbaseline</span></div><div class='xr-var-dims'>(index)</div><div class='xr-var-dtype'>object</div><div class='xr-var-preview xr-preview'>&#x27;04.00&#x27;</div><input id='attrs-66bf8fd7-5784-4d5e-933c-b147ff57d78e' class='xr-var-attrs-in' type='checkbox' disabled><label for='attrs-66bf8fd7-5784-4d5e-933c-b147ff57d78e' title='Show/Hide attributes'><svg class='icon xr-icon-file-text2'><use xlink:href='#icon-file-text2'></use></svg></label><input id='data-1ebbce05-7cc9-421b-9adb-5305eadd3dda' class='xr-var-data-in' type='checkbox'><label for='data-1ebbce05-7cc9-421b-9adb-5305eadd3dda' title='Show/Hide data repr'><svg class='icon xr-icon-database'><use xlink:href='#icon-database'></use></svg></label><div class='xr-var-attrs'><dl class='xr-attrs'></dl></div><div class='xr-var-data'><pre>array([&#x27;04.00&#x27;], dtype=object)</pre></div></li><li class='xr-var-item'><div class='xr-var-name'><span>platformname</span></div><div class='xr-var-dims'>(index)</div><div class='xr-var-dtype'>object</div><div class='xr-var-preview xr-preview'>&#x27;Sentinel-2&#x27;</div><input id='attrs-efba63b6-100f-44c6-8e21-2b60af34b211' class='xr-var-attrs-in' type='checkbox' disabled><label for='attrs-efba63b6-100f-44c6-8e21-2b60af34b211' title='Show/Hide attributes'><svg class='icon xr-icon-file-text2'><use xlink:href='#icon-file-text2'></use></svg></label><input id='data-b77652e1-500c-4e22-ae06-2ef8a3c66bde' class='xr-var-data-in' type='checkbox'><label for='data-b77652e1-500c-4e22-ae06-2ef8a3c66bde' title='Show/Hide data repr'><svg class='icon xr-icon-database'><use xlink:href='#icon-database'></use></svg></label><div class='xr-var-attrs'><dl class='xr-attrs'></dl></div><div class='xr-var-data'><pre>array([&#x27;Sentinel-2&#x27;], dtype=object)</pre></div></li><li class='xr-var-item'><div class='xr-var-name'><span>filename</span></div><div class='xr-var-dims'>(index)</div><div class='xr-var-dtype'>object</div><div class='xr-var-preview xr-preview'>&#x27;S2B_MSIL2A_20220430T100019_N040...</div><input id='attrs-c32a1a1e-8175-40d7-ad94-3eb9ad6f9a8c' class='xr-var-attrs-in' type='checkbox' disabled><label for='attrs-c32a1a1e-8175-40d7-ad94-3eb9ad6f9a8c' title='Show/Hide attributes'><svg class='icon xr-icon-file-text2'><use xlink:href='#icon-file-text2'></use></svg></label><input id='data-b1b53add-aa77-43ec-b851-1f2d09fa37ca' class='xr-var-data-in' type='checkbox'><label for='data-b1b53add-aa77-43ec-b851-1f2d09fa37ca' title='Show/Hide data repr'><svg class='icon xr-icon-database'><use xlink:href='#icon-database'></use></svg></label><div class='xr-var-attrs'><dl class='xr-attrs'></dl></div><div class='xr-var-data'><pre>array([&#x27;S2B_MSIL2A_20220430T100019_N0400_R122_T33TVF_20220430T131131.SAFE&#x27;],\n",
       "      dtype=object)</pre></div></li><li class='xr-var-item'><div class='xr-var-name'><span>instrumentname</span></div><div class='xr-var-dims'>(index)</div><div class='xr-var-dtype'>object</div><div class='xr-var-preview xr-preview'>&#x27;Multi-Spectral Instrument&#x27;</div><input id='attrs-fa1a0372-056d-47dd-9aa2-9aa20f4a91d1' class='xr-var-attrs-in' type='checkbox' disabled><label for='attrs-fa1a0372-056d-47dd-9aa2-9aa20f4a91d1' title='Show/Hide attributes'><svg class='icon xr-icon-file-text2'><use xlink:href='#icon-file-text2'></use></svg></label><input id='data-78a3e340-9f57-4479-8396-475e2a5637da' class='xr-var-data-in' type='checkbox'><label for='data-78a3e340-9f57-4479-8396-475e2a5637da' title='Show/Hide data repr'><svg class='icon xr-icon-database'><use xlink:href='#icon-database'></use></svg></label><div class='xr-var-attrs'><dl class='xr-attrs'></dl></div><div class='xr-var-data'><pre>array([&#x27;Multi-Spectral Instrument&#x27;], dtype=object)</pre></div></li><li class='xr-var-item'><div class='xr-var-name'><span>instrumentshortname</span></div><div class='xr-var-dims'>(index)</div><div class='xr-var-dtype'>object</div><div class='xr-var-preview xr-preview'>&#x27;MSI&#x27;</div><input id='attrs-6cdbf302-bf28-4574-933a-0f00af6b2439' class='xr-var-attrs-in' type='checkbox' disabled><label for='attrs-6cdbf302-bf28-4574-933a-0f00af6b2439' title='Show/Hide attributes'><svg class='icon xr-icon-file-text2'><use xlink:href='#icon-file-text2'></use></svg></label><input id='data-d113a46f-d593-4e5b-bb76-413e88567ad9' class='xr-var-data-in' type='checkbox'><label for='data-d113a46f-d593-4e5b-bb76-413e88567ad9' title='Show/Hide data repr'><svg class='icon xr-icon-database'><use xlink:href='#icon-database'></use></svg></label><div class='xr-var-attrs'><dl class='xr-attrs'></dl></div><div class='xr-var-data'><pre>array([&#x27;MSI&#x27;], dtype=object)</pre></div></li><li class='xr-var-item'><div class='xr-var-name'><span>size</span></div><div class='xr-var-dims'>(index)</div><div class='xr-var-dtype'>object</div><div class='xr-var-preview xr-preview'>&#x27;624.78 MB&#x27;</div><input id='attrs-9bc57733-2d0e-4a54-a6ea-1d32dc782490' class='xr-var-attrs-in' type='checkbox' disabled><label for='attrs-9bc57733-2d0e-4a54-a6ea-1d32dc782490' title='Show/Hide attributes'><svg class='icon xr-icon-file-text2'><use xlink:href='#icon-file-text2'></use></svg></label><input id='data-d09e500c-162b-4e16-992c-b53b15e85970' class='xr-var-data-in' type='checkbox'><label for='data-d09e500c-162b-4e16-992c-b53b15e85970' title='Show/Hide data repr'><svg class='icon xr-icon-database'><use xlink:href='#icon-database'></use></svg></label><div class='xr-var-attrs'><dl class='xr-attrs'></dl></div><div class='xr-var-data'><pre>array([&#x27;624.78 MB&#x27;], dtype=object)</pre></div></li><li class='xr-var-item'><div class='xr-var-name'><span>s2datatakeid</span></div><div class='xr-var-dims'>(index)</div><div class='xr-var-dtype'>object</div><div class='xr-var-preview xr-preview'>&#x27;GS2B_20220430T100019_026889_N04...</div><input id='attrs-0deb8827-7923-419d-b6e2-e0748aef4966' class='xr-var-attrs-in' type='checkbox' disabled><label for='attrs-0deb8827-7923-419d-b6e2-e0748aef4966' title='Show/Hide attributes'><svg class='icon xr-icon-file-text2'><use xlink:href='#icon-file-text2'></use></svg></label><input id='data-fa6cdae6-0902-40c7-b2cc-053cbd9cadcc' class='xr-var-data-in' type='checkbox'><label for='data-fa6cdae6-0902-40c7-b2cc-053cbd9cadcc' title='Show/Hide data repr'><svg class='icon xr-icon-database'><use xlink:href='#icon-database'></use></svg></label><div class='xr-var-attrs'><dl class='xr-attrs'></dl></div><div class='xr-var-data'><pre>array([&#x27;GS2B_20220430T100019_026889_N04.00&#x27;], dtype=object)</pre></div></li><li class='xr-var-item'><div class='xr-var-name'><span>producttype</span></div><div class='xr-var-dims'>(index)</div><div class='xr-var-dtype'>object</div><div class='xr-var-preview xr-preview'>&#x27;S2MSI2A&#x27;</div><input id='attrs-88956694-9678-4847-ba02-193cf3763e6d' class='xr-var-attrs-in' type='checkbox' disabled><label for='attrs-88956694-9678-4847-ba02-193cf3763e6d' title='Show/Hide attributes'><svg class='icon xr-icon-file-text2'><use xlink:href='#icon-file-text2'></use></svg></label><input id='data-ed53a87a-6632-424b-b62d-02612848e935' class='xr-var-data-in' type='checkbox'><label for='data-ed53a87a-6632-424b-b62d-02612848e935' title='Show/Hide data repr'><svg class='icon xr-icon-database'><use xlink:href='#icon-database'></use></svg></label><div class='xr-var-attrs'><dl class='xr-attrs'></dl></div><div class='xr-var-data'><pre>array([&#x27;S2MSI2A&#x27;], dtype=object)</pre></div></li><li class='xr-var-item'><div class='xr-var-name'><span>platformidentifier</span></div><div class='xr-var-dims'>(index)</div><div class='xr-var-dtype'>object</div><div class='xr-var-preview xr-preview'>&#x27;2017-013A&#x27;</div><input id='attrs-ef90d44a-6de4-4d0a-9217-388446063d2f' class='xr-var-attrs-in' type='checkbox' disabled><label for='attrs-ef90d44a-6de4-4d0a-9217-388446063d2f' title='Show/Hide attributes'><svg class='icon xr-icon-file-text2'><use xlink:href='#icon-file-text2'></use></svg></label><input id='data-074f56b0-7eb7-40b3-9e7f-34296a299812' class='xr-var-data-in' type='checkbox'><label for='data-074f56b0-7eb7-40b3-9e7f-34296a299812' title='Show/Hide data repr'><svg class='icon xr-icon-database'><use xlink:href='#icon-database'></use></svg></label><div class='xr-var-attrs'><dl class='xr-attrs'></dl></div><div class='xr-var-data'><pre>array([&#x27;2017-013A&#x27;], dtype=object)</pre></div></li><li class='xr-var-item'><div class='xr-var-name'><span>orbitdirection</span></div><div class='xr-var-dims'>(index)</div><div class='xr-var-dtype'>object</div><div class='xr-var-preview xr-preview'>&#x27;DESCENDING&#x27;</div><input id='attrs-e0749a4e-88c8-4e17-9588-44fa882f5a2f' class='xr-var-attrs-in' type='checkbox' disabled><label for='attrs-e0749a4e-88c8-4e17-9588-44fa882f5a2f' title='Show/Hide attributes'><svg class='icon xr-icon-file-text2'><use xlink:href='#icon-file-text2'></use></svg></label><input id='data-6953a0f4-6e9e-44b4-a331-76bdc5788491' class='xr-var-data-in' type='checkbox'><label for='data-6953a0f4-6e9e-44b4-a331-76bdc5788491' title='Show/Hide data repr'><svg class='icon xr-icon-database'><use xlink:href='#icon-database'></use></svg></label><div class='xr-var-attrs'><dl class='xr-attrs'></dl></div><div class='xr-var-data'><pre>array([&#x27;DESCENDING&#x27;], dtype=object)</pre></div></li><li class='xr-var-item'><div class='xr-var-name'><span>platformserialidentifier</span></div><div class='xr-var-dims'>(index)</div><div class='xr-var-dtype'>object</div><div class='xr-var-preview xr-preview'>&#x27;Sentinel-2B&#x27;</div><input id='attrs-8f2dde7e-d2b3-4347-916e-607155e842c9' class='xr-var-attrs-in' type='checkbox' disabled><label for='attrs-8f2dde7e-d2b3-4347-916e-607155e842c9' title='Show/Hide attributes'><svg class='icon xr-icon-file-text2'><use xlink:href='#icon-file-text2'></use></svg></label><input id='data-98fa5b11-6c5a-4838-a4b6-c77b0afd02b7' class='xr-var-data-in' type='checkbox'><label for='data-98fa5b11-6c5a-4838-a4b6-c77b0afd02b7' title='Show/Hide data repr'><svg class='icon xr-icon-database'><use xlink:href='#icon-database'></use></svg></label><div class='xr-var-attrs'><dl class='xr-attrs'></dl></div><div class='xr-var-data'><pre>array([&#x27;Sentinel-2B&#x27;], dtype=object)</pre></div></li><li class='xr-var-item'><div class='xr-var-name'><span>processinglevel</span></div><div class='xr-var-dims'>(index)</div><div class='xr-var-dtype'>object</div><div class='xr-var-preview xr-preview'>&#x27;Level-2A&#x27;</div><input id='attrs-6c60368b-c689-48c3-95ae-ab19531d4b91' class='xr-var-attrs-in' type='checkbox' disabled><label for='attrs-6c60368b-c689-48c3-95ae-ab19531d4b91' title='Show/Hide attributes'><svg class='icon xr-icon-file-text2'><use xlink:href='#icon-file-text2'></use></svg></label><input id='data-c6f85be2-2cce-4ca4-a716-a3658dad95e5' class='xr-var-data-in' type='checkbox'><label for='data-c6f85be2-2cce-4ca4-a716-a3658dad95e5' title='Show/Hide data repr'><svg class='icon xr-icon-database'><use xlink:href='#icon-database'></use></svg></label><div class='xr-var-attrs'><dl class='xr-attrs'></dl></div><div class='xr-var-data'><pre>array([&#x27;Level-2A&#x27;], dtype=object)</pre></div></li><li class='xr-var-item'><div class='xr-var-name'><span>datastripidentifier</span></div><div class='xr-var-dims'>(index)</div><div class='xr-var-dtype'>object</div><div class='xr-var-preview xr-preview'>&#x27;S2B_OPER_MSI_L2A_DS_2BPS_202204...</div><input id='attrs-d1e35372-0d87-4813-a3a0-bdfa2b662949' class='xr-var-attrs-in' type='checkbox' disabled><label for='attrs-d1e35372-0d87-4813-a3a0-bdfa2b662949' title='Show/Hide attributes'><svg class='icon xr-icon-file-text2'><use xlink:href='#icon-file-text2'></use></svg></label><input id='data-c871e743-7c1e-4174-9c65-ed3cc2f683ee' class='xr-var-data-in' type='checkbox'><label for='data-c871e743-7c1e-4174-9c65-ed3cc2f683ee' title='Show/Hide data repr'><svg class='icon xr-icon-database'><use xlink:href='#icon-database'></use></svg></label><div class='xr-var-attrs'><dl class='xr-attrs'></dl></div><div class='xr-var-data'><pre>array([&#x27;S2B_OPER_MSI_L2A_DS_2BPS_20220430T131131_S20220430T100356_N04.00&#x27;],\n",
       "      dtype=object)</pre></div></li><li class='xr-var-item'><div class='xr-var-name'><span>granuleidentifier</span></div><div class='xr-var-dims'>(index)</div><div class='xr-var-dtype'>object</div><div class='xr-var-preview xr-preview'>&#x27;S2B_OPER_MSI_L2A_TL_2BPS_202204...</div><input id='attrs-fbaeb7ca-b93a-4e44-9d46-844f1d10806b' class='xr-var-attrs-in' type='checkbox' disabled><label for='attrs-fbaeb7ca-b93a-4e44-9d46-844f1d10806b' title='Show/Hide attributes'><svg class='icon xr-icon-file-text2'><use xlink:href='#icon-file-text2'></use></svg></label><input id='data-1f9a6570-7033-4ea1-9046-02fbf9b4eb34' class='xr-var-data-in' type='checkbox'><label for='data-1f9a6570-7033-4ea1-9046-02fbf9b4eb34' title='Show/Hide data repr'><svg class='icon xr-icon-database'><use xlink:href='#icon-database'></use></svg></label><div class='xr-var-attrs'><dl class='xr-attrs'></dl></div><div class='xr-var-data'><pre>array([&#x27;S2B_OPER_MSI_L2A_TL_2BPS_20220430T131131_A026889_T33TVF_N04.00&#x27;],\n",
       "      dtype=object)</pre></div></li><li class='xr-var-item'><div class='xr-var-name'><span>identifier</span></div><div class='xr-var-dims'>(index)</div><div class='xr-var-dtype'>object</div><div class='xr-var-preview xr-preview'>&#x27;S2B_MSIL2A_20220430T100019_N040...</div><input id='attrs-27184c3b-a07c-45b3-97b9-c924e3fec503' class='xr-var-attrs-in' type='checkbox' disabled><label for='attrs-27184c3b-a07c-45b3-97b9-c924e3fec503' title='Show/Hide attributes'><svg class='icon xr-icon-file-text2'><use xlink:href='#icon-file-text2'></use></svg></label><input id='data-cf7e98e6-0c01-43ce-8643-ba89fb290ffa' class='xr-var-data-in' type='checkbox'><label for='data-cf7e98e6-0c01-43ce-8643-ba89fb290ffa' title='Show/Hide data repr'><svg class='icon xr-icon-database'><use xlink:href='#icon-database'></use></svg></label><div class='xr-var-attrs'><dl class='xr-attrs'></dl></div><div class='xr-var-data'><pre>array([&#x27;S2B_MSIL2A_20220430T100019_N0400_R122_T33TVF_20220430T131131&#x27;],\n",
       "      dtype=object)</pre></div></li><li class='xr-var-item'><div class='xr-var-name'><span>uuid</span></div><div class='xr-var-dims'>(index)</div><div class='xr-var-dtype'>object</div><div class='xr-var-preview xr-preview'>&#x27;b5c7ca6d-768e-4600-a2dd-556d31b...</div><input id='attrs-b717db4c-025c-47e4-bf82-be8298e67525' class='xr-var-attrs-in' type='checkbox' disabled><label for='attrs-b717db4c-025c-47e4-bf82-be8298e67525' title='Show/Hide attributes'><svg class='icon xr-icon-file-text2'><use xlink:href='#icon-file-text2'></use></svg></label><input id='data-831f08bf-a9b6-4426-9690-739105d206c5' class='xr-var-data-in' type='checkbox'><label for='data-831f08bf-a9b6-4426-9690-739105d206c5' title='Show/Hide data repr'><svg class='icon xr-icon-database'><use xlink:href='#icon-database'></use></svg></label><div class='xr-var-attrs'><dl class='xr-attrs'></dl></div><div class='xr-var-data'><pre>array([&#x27;b5c7ca6d-768e-4600-a2dd-556d31b05693&#x27;], dtype=object)</pre></div></li></ul></div></li><li class='xr-section-item'><input id='section-bf65ebfc-1439-4b45-90f1-afe5de1ccd10' class='xr-section-summary-in' type='checkbox' disabled ><label for='section-bf65ebfc-1439-4b45-90f1-afe5de1ccd10' class='xr-section-summary'  title='Expand/collapse section'>Attributes: <span>(0)</span></label><div class='xr-section-inline-details'></div><div class='xr-section-details'><dl class='xr-attrs'></dl></div></li></ul></div></div>"
      ],
      "text/plain": [
       "<xarray.Dataset>\n",
       "Dimensions:                      (index: 1)\n",
       "Coordinates:\n",
       "  * index                        (index) object 'b5c7ca6d-768e-4600-a2dd-556d...\n",
       "Data variables: (12/42)\n",
       "    title                        (index) object 'S2B_MSIL2A_20220430T100019_N...\n",
       "    link                         (index) object \"https://apihub.copernicus.eu...\n",
       "    link_alternative             (index) object \"https://apihub.copernicus.eu...\n",
       "    link_icon                    (index) object \"https://apihub.copernicus.eu...\n",
       "    summary                      (index) object 'Date: 2022-04-30T10:00:19.02...\n",
       "    ondemand                     (index) object 'false'\n",
       "    ...                           ...\n",
       "    platformserialidentifier     (index) object 'Sentinel-2B'\n",
       "    processinglevel              (index) object 'Level-2A'\n",
       "    datastripidentifier          (index) object 'S2B_OPER_MSI_L2A_DS_2BPS_202...\n",
       "    granuleidentifier            (index) object 'S2B_OPER_MSI_L2A_TL_2BPS_202...\n",
       "    identifier                   (index) object 'S2B_MSIL2A_20220430T100019_N...\n",
       "    uuid                         (index) object 'b5c7ca6d-768e-4600-a2dd-556d..."
      ]
     },
     "execution_count": 10,
     "metadata": {},
     "output_type": "execute_result"
    }
   ],
   "source": [
    "products_df.to_xarray()"
   ]
  },
  {
   "cell_type": "markdown",
   "id": "91aeeb11-2928-4c44-9e08-7def4917eec3",
   "metadata": {},
   "source": [
    "## Testing Download API by using the id product"
   ]
  },
  {
   "cell_type": "markdown",
   "id": "53aa5f83-3291-4d16-bfa6-363822ed69fc",
   "metadata": {},
   "source": [
    "Before download sentinel data, control if the product is Online and able to directly download. Otherwise you must unblock the product by swutching it from OFFLINE status to ONLINE status."
   ]
  },
  {
   "cell_type": "code",
   "execution_count": 14,
   "id": "67faedfa-1156-450f-b23a-20eb14eeeb2a",
   "metadata": {},
   "outputs": [
    {
     "data": {
      "text/plain": [
       "False"
      ]
     },
     "execution_count": 14,
     "metadata": {},
     "output_type": "execute_result"
    }
   ],
   "source": [
    "product_info = api.get_product_odata('8a464f41-cb80-4350-848f-a95da9810991')\n",
    "product_info['Online']"
   ]
  },
  {
   "cell_type": "code",
   "execution_count": 39,
   "id": "cb8470d4-4702-49c3-b283-010b7fad8e2f",
   "metadata": {},
   "outputs": [
    {
     "data": {
      "application/vnd.jupyter.widget-view+json": {
       "model_id": "707504a7be3246fdb43bef951bd94d9d",
       "version_major": 2,
       "version_minor": 0
      },
      "text/plain": [
       "Downloading S1B_IW_SLC__1SDV_20180607T041420_20180607T041448_011262_014ABB_AC0E.zip:   0%|          | 0.00/4.5…"
      ]
     },
     "metadata": {},
     "output_type": "display_data"
    },
    {
     "data": {
      "application/vnd.jupyter.widget-view+json": {
       "model_id": "",
       "version_major": 2,
       "version_minor": 0
      },
      "text/plain": [
       "MD5 checksumming:   0%|          | 0.00/4.50G [00:00<?, ?B/s]"
      ]
     },
     "metadata": {},
     "output_type": "display_data"
    },
    {
     "data": {
      "text/plain": [
       "{'id': '8a464f41-cb80-4350-848f-a95da9810991',\n",
       " 'title': 'S1B_IW_SLC__1SDV_20180607T041420_20180607T041448_011262_014ABB_AC0E',\n",
       " 'size': 4496221397,\n",
       " 'md5': 'cd13a4fe35c5c197ca83c75c7acf036f',\n",
       " 'date': datetime.datetime(2018, 6, 7, 4, 14, 20, 208000),\n",
       " 'footprint': 'POLYGON((28.414934 37.326553,25.574972 37.724804,25.919802 39.401939,28.828909 39.004982,28.414934 37.326553))',\n",
       " 'url': \"https://apihub.copernicus.eu/apihub/odata/v1/Products('8a464f41-cb80-4350-848f-a95da9810991')/$value\",\n",
       " 'Online': True,\n",
       " 'Creation Date': datetime.datetime(2018, 6, 7, 9, 21, 30, 469000),\n",
       " 'Ingestion Date': datetime.datetime(2018, 6, 7, 9, 13, 12, 2000),\n",
       " 'quicklook_url': \"https://apihub.copernicus.eu/apihub/odata/v1/Products('8a464f41-cb80-4350-848f-a95da9810991')/Products('Quicklook')/$value\",\n",
       " 'path': 'S1B_IW_SLC__1SDV_20180607T041420_20180607T041448_011262_014ABB_AC0E.zip',\n",
       " 'downloaded_bytes': 4496221397}"
      ]
     },
     "execution_count": 39,
     "metadata": {},
     "output_type": "execute_result"
    }
   ],
   "source": [
    "api.download('8a464f41-cb80-4350-848f-a95da9810991')"
   ]
  },
  {
   "cell_type": "markdown",
   "id": "67283094-d498-4b89-8f54-bf794ca7871c",
   "metadata": {},
   "source": [
    "In this case I select a product offline. It exists an API (trigger_offline_retrieval) in which we pass the id product in order to re-activate the product in 24h. The response of server is a boolean (True) for the success of request. Then you could try to download your desired data."
   ]
  },
  {
   "cell_type": "code",
   "execution_count": 6,
   "id": "f1020447-727b-4ca1-ab0b-b291093e71e3",
   "metadata": {},
   "outputs": [
    {
     "data": {
      "text/plain": [
       "True"
      ]
     },
     "execution_count": 6,
     "metadata": {},
     "output_type": "execute_result"
    }
   ],
   "source": [
    "api.trigger_offline_retrieval('8a464f41-cb80-4350-848f-a95da9810991')"
   ]
  },
  {
   "cell_type": "markdown",
   "id": "6d95f9f7-6dc2-4e02-9ff9-233df4700a1d",
   "metadata": {},
   "source": [
    "## Displaying product info "
   ]
  },
  {
   "cell_type": "code",
   "execution_count": 16,
   "id": "6df1fb73-0fd6-4446-81ad-895bb4c6d93c",
   "metadata": {},
   "outputs": [
    {
     "name": "stdout",
     "output_type": "stream",
     "text": [
      "<class 'pandas.core.frame.DataFrame'>\n",
      "Index: 4 entries, 87438c76-c585-43d6-875d-490056fab559 to be152722-3387-4d7c-a9fa-0ce74f824e9c\n",
      "Data columns (total 34 columns):\n",
      " #   Column                   Non-Null Count  Dtype         \n",
      "---  ------                   --------------  -----         \n",
      " 0   title                    4 non-null      object        \n",
      " 1   link                     4 non-null      object        \n",
      " 2   link_alternative         4 non-null      object        \n",
      " 3   link_icon                4 non-null      object        \n",
      " 4   summary                  4 non-null      object        \n",
      " 5   ondemand                 4 non-null      object        \n",
      " 6   ingestiondate            4 non-null      datetime64[ns]\n",
      " 7   beginposition            4 non-null      datetime64[ns]\n",
      " 8   endposition              4 non-null      datetime64[ns]\n",
      " 9   missiondatatakeid        4 non-null      int64         \n",
      " 10  orbitnumber              4 non-null      int64         \n",
      " 11  lastorbitnumber          4 non-null      int64         \n",
      " 12  relativeorbitnumber      4 non-null      int64         \n",
      " 13  lastrelativeorbitnumber  4 non-null      int64         \n",
      " 14  slicenumber              4 non-null      int64         \n",
      " 15  acquisitiontype          4 non-null      object        \n",
      " 16  filename                 4 non-null      object        \n",
      " 17  gmlfootprint             4 non-null      object        \n",
      " 18  format                   4 non-null      object        \n",
      " 19  identifier               4 non-null      object        \n",
      " 20  instrumentshortname      4 non-null      object        \n",
      " 21  sensoroperationalmode    4 non-null      object        \n",
      " 22  instrumentname           4 non-null      object        \n",
      " 23  swathidentifier          4 non-null      object        \n",
      " 24  footprint                4 non-null      object        \n",
      " 25  platformidentifier       4 non-null      object        \n",
      " 26  orbitdirection           4 non-null      object        \n",
      " 27  polarisationmode         4 non-null      object        \n",
      " 28  productclass             4 non-null      object        \n",
      " 29  producttype              4 non-null      object        \n",
      " 30  platformname             4 non-null      object        \n",
      " 31  size                     4 non-null      object        \n",
      " 32  status                   4 non-null      object        \n",
      " 33  uuid                     4 non-null      object        \n",
      "dtypes: datetime64[ns](3), int64(6), object(25)\n",
      "memory usage: 1.1+ KB\n"
     ]
    }
   ],
   "source": [
    "products_df.info()"
   ]
  },
  {
   "cell_type": "markdown",
   "id": "f220e8b2-5f88-4363-82d2-df75535cbcf9",
   "metadata": {},
   "source": [
    "If we want to display all the information within the columns of Panda Dataframe, we must set the max number of columns we need to visualize. I set an hight number in order to all visualize."
   ]
  },
  {
   "cell_type": "code",
   "execution_count": 8,
   "id": "cc307ac5-0e5c-497e-aab1-c7747898eb54",
   "metadata": {},
   "outputs": [],
   "source": [
    "pd.set_option('display.max_columns', 100)"
   ]
  },
  {
   "cell_type": "code",
   "execution_count": null,
   "id": "1815d4f2-1160-47e7-bd98-b8bfb372bd04",
   "metadata": {},
   "outputs": [],
   "source": [
    "products_sorted"
   ]
  },
  {
   "cell_type": "markdown",
   "id": "2df6342f-d759-4ca0-b7b1-b52b44973d2b",
   "metadata": {},
   "source": [
    "Sentinelsat allows filtering and sorting of search results before download."
   ]
  },
  {
   "cell_type": "code",
   "execution_count": null,
   "id": "6df55107-6bba-4f8e-b0c6-1f41983da3e0",
   "metadata": {},
   "outputs": [],
   "source": [
    "products_sorted = products_df.sort_values(['size'], ascending=[True])\n",
    "products_sorted"
   ]
  }
 ],
 "metadata": {
  "kernelspec": {
   "display_name": "Python 3 (ipykernel)",
   "language": "python",
   "name": "python3"
  },
  "language_info": {
   "codemirror_mode": {
    "name": "ipython",
    "version": 3
   },
   "file_extension": ".py",
   "mimetype": "text/x-python",
   "name": "python",
   "nbconvert_exporter": "python",
   "pygments_lexer": "ipython3",
   "version": "3.9.12"
  }
 },
 "nbformat": 4,
 "nbformat_minor": 5
}
